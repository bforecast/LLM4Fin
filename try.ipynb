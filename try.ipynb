{
 "cells": [
  {
   "cell_type": "code",
   "execution_count": 2,
   "metadata": {},
   "outputs": [],
   "source": [
    "import yahoo_fin as yf"
   ]
  },
  {
   "cell_type": "code",
   "execution_count": 5,
   "metadata": {},
   "outputs": [
    {
     "name": "stdout",
     "output_type": "stream",
     "text": [
      "Warning - Certain functionality \n",
      "             requires requests_html, which is not installed.\n",
      "             \n",
      "             Install using: \n",
      "             pip install requests_html\n",
      "             \n",
      "             After installation, you may have to restart your Python session.\n"
     ]
    }
   ],
   "source": [
    "from yahoo_fin import stock_info, news"
   ]
  },
  {
   "cell_type": "code",
   "execution_count": 9,
   "metadata": {},
   "outputs": [
    {
     "name": "stderr",
     "output_type": "stream",
     "text": [
      "d:\\Py-Project\\LLM4Fin\\.venv\\lib\\site-packages\\yahoo_fin\\stock_info.py:560: FutureWarning: Passing literal html to 'read_html' is deprecated and will be removed in a future version. To read from a literal string, wrap it in a 'StringIO' object.\n",
      "  tables = pd.read_html(requests.get(analysts_site, headers=headers).text)\n"
     ]
    }
   ],
   "source": [
    "ai = stock_info.get_analysts_info('nflx')"
   ]
  },
  {
   "cell_type": "code",
   "execution_count": 14,
   "metadata": {},
   "outputs": [
    {
     "data": {
      "text/html": [
       "<div>\n",
       "<style scoped>\n",
       "    .dataframe tbody tr th:only-of-type {\n",
       "        vertical-align: middle;\n",
       "    }\n",
       "\n",
       "    .dataframe tbody tr th {\n",
       "        vertical-align: top;\n",
       "    }\n",
       "\n",
       "    .dataframe thead th {\n",
       "        text-align: right;\n",
       "    }\n",
       "</style>\n",
       "<table border=\"1\" class=\"dataframe\">\n",
       "  <thead>\n",
       "    <tr style=\"text-align: right;\">\n",
       "      <th></th>\n",
       "      <th>Earnings Estimate</th>\n",
       "      <th>Current Qtr. (Mar 2024)</th>\n",
       "      <th>Next Qtr. (Jun 2024)</th>\n",
       "      <th>Current Year (2024)</th>\n",
       "      <th>Next Year (2025)</th>\n",
       "    </tr>\n",
       "  </thead>\n",
       "  <tbody>\n",
       "    <tr>\n",
       "      <th>0</th>\n",
       "      <td>No. of Analysts</td>\n",
       "      <td>31.00</td>\n",
       "      <td>31.00</td>\n",
       "      <td>41.00</td>\n",
       "      <td>40.00</td>\n",
       "    </tr>\n",
       "    <tr>\n",
       "      <th>1</th>\n",
       "      <td>Avg. Estimate</td>\n",
       "      <td>4.15</td>\n",
       "      <td>4.17</td>\n",
       "      <td>15.82</td>\n",
       "      <td>19.54</td>\n",
       "    </tr>\n",
       "    <tr>\n",
       "      <th>2</th>\n",
       "      <td>Low Estimate</td>\n",
       "      <td>4.06</td>\n",
       "      <td>3.51</td>\n",
       "      <td>14.21</td>\n",
       "      <td>16.34</td>\n",
       "    </tr>\n",
       "    <tr>\n",
       "      <th>3</th>\n",
       "      <td>High Estimate</td>\n",
       "      <td>4.36</td>\n",
       "      <td>4.57</td>\n",
       "      <td>16.96</td>\n",
       "      <td>23.09</td>\n",
       "    </tr>\n",
       "    <tr>\n",
       "      <th>4</th>\n",
       "      <td>Year Ago EPS</td>\n",
       "      <td>2.88</td>\n",
       "      <td>3.29</td>\n",
       "      <td>11.09</td>\n",
       "      <td>15.82</td>\n",
       "    </tr>\n",
       "  </tbody>\n",
       "</table>\n",
       "</div>"
      ],
      "text/plain": [
       "  Earnings Estimate  Current Qtr. (Mar 2024)  Next Qtr. (Jun 2024)  \\\n",
       "0   No. of Analysts                    31.00                 31.00   \n",
       "1     Avg. Estimate                     4.15                  4.17   \n",
       "2      Low Estimate                     4.06                  3.51   \n",
       "3     High Estimate                     4.36                  4.57   \n",
       "4      Year Ago EPS                     2.88                  3.29   \n",
       "\n",
       "   Current Year (2024)  Next Year (2025)  \n",
       "0                41.00             40.00  \n",
       "1                15.82             19.54  \n",
       "2                14.21             16.34  \n",
       "3                16.96             23.09  \n",
       "4                11.09             15.82  "
      ]
     },
     "execution_count": 14,
     "metadata": {},
     "output_type": "execute_result"
    }
   ],
   "source": [
    "ai['Earnings Estimate']"
   ]
  },
  {
   "cell_type": "code",
   "execution_count": 18,
   "metadata": {},
   "outputs": [
    {
     "name": "stdout",
     "output_type": "stream",
     "text": [
      "Earnings Estimate\n",
      "Revenue Estimate\n",
      "Earnings History\n",
      "EPS Trend\n",
      "EPS Revisions\n",
      "Growth Estimates\n"
     ]
    }
   ],
   "source": [
    "for k in ai:\n",
    "    print(k)\n"
   ]
  },
  {
   "cell_type": "code",
   "execution_count": 8,
   "metadata": {},
   "outputs": [
    {
     "name": "stderr",
     "output_type": "stream",
     "text": [
      "C:\\Users\\bfore\\AppData\\Local\\Temp\\ipykernel_8752\\3684111803.py:1: FutureWarning: Series.__getitem__ treating keys as positions is deprecated. In a future version, integer keys will always be treated as labels (consistent with DataFrame behavior). To access a value by position, use `ser.iloc[pos]`\n",
      "  stock_info.get_data(\"NFLX\")['close'][-1]\n"
     ]
    },
    {
     "data": {
      "text/plain": [
       "632.780029296875"
      ]
     },
     "execution_count": 8,
     "metadata": {},
     "output_type": "execute_result"
    }
   ],
   "source": [
    "stock_info.get_data(\"NFLX\")['close'][-1]"
   ]
  },
  {
   "cell_type": "code",
   "execution_count": 21,
   "metadata": {},
   "outputs": [],
   "source": [
    "news_rss = news.get_yf_rss(\"nflx\")"
   ]
  },
  {
   "cell_type": "code",
   "execution_count": 26,
   "metadata": {},
   "outputs": [
    {
     "name": "stdout",
     "output_type": "stream",
     "text": [
      "Analysts bullish on Netflix ahead of earnings\n",
      "Mon, 08 Apr 2024 14:15:02 +0000\n",
      "Is Netflix Stock A Buy Before Video Streamer's First-Quarter Report?\n",
      "Mon, 08 Apr 2024 12:30:40 +0000\n",
      "Consumer Subscription Stocks Q4 Highlights: Netflix (NASDAQ:NFLX)\n",
      "Mon, 08 Apr 2024 10:56:44 +0000\n",
      "Netflix (NFLX) Streams Makoto Shinkai's Suzume in 169 Countries\n",
      "Mon, 08 Apr 2024 10:50:00 +0000\n",
      "Top 25 Biggest Internet Companies in the US\n",
      "Sun, 07 Apr 2024 21:35:23 +0000\n",
      "2 Potentially Explosive Stocks to Buy In April\n",
      "Sun, 07 Apr 2024 14:21:00 +0000\n",
      "Netflix (NASDAQ:NFLX) Is Experiencing Growth In Returns On Capital\n",
      "Sat, 06 Apr 2024 12:01:24 +0000\n",
      "Amazon MGM partners with YouTuber MrBeast to stream 'Beast Games'\n",
      "Fri, 05 Apr 2024 21:35:26 +0000\n",
      "Netflix Scores Street-High Price Target On 'Solid Momentum'\n",
      "Fri, 05 Apr 2024 20:22:48 +0000\n",
      "‘The few times I’ve done investing, I’ve lost my shirt’: Netflix cofounder Reed Hastings opens up on his investing track record\n",
      "Fri, 05 Apr 2024 19:38:08 +0000\n",
      "Stocks Soar After Robust Jobs Data; AMD, Amazon.com Lead Tech Rally, But Tesla Sinks On This News\n",
      "Fri, 05 Apr 2024 17:10:41 +0000\n",
      "Disney (DIS) Plans to Enforce Stricter Password-Sharing Rules\n",
      "Fri, 05 Apr 2024 16:54:00 +0000\n",
      "FOXA vs. NFLX: Which Stock Should Value Investors Buy Now?\n",
      "Fri, 05 Apr 2024 15:40:13 +0000\n",
      "Netflix stock rises as Pivotal Research raises price target\n",
      "Fri, 05 Apr 2024 14:42:00 +0000\n",
      "Netflix Price Target Raised to a Wall Street High. It ‘Has Won the Streaming Wars.’\n",
      "Fri, 05 Apr 2024 13:58:00 +0000\n",
      "Disney+ will crack down on password sharing this year, boss says\n",
      "Fri, 05 Apr 2024 08:32:57 +0000\n",
      "Nvidia On List Of 17 'Perfect' Stocks. Will The Market Scar Them?\n",
      "Thu, 04 Apr 2024 20:19:29 +0000\n",
      "Dakota Fanning Makes an Ethereal Arrival in Asymmetrical Fendi Couture Dress for Netflix’s ‘Ripley’ Red Carpet Premiere\n",
      "Thu, 04 Apr 2024 20:16:30 +0000\n",
      "The Password Sharing Crackdown Is Coming to Disney\n",
      "Thu, 04 Apr 2024 19:21:00 +0000\n",
      "Disney+ will crack down on password sharing in June\n",
      "Thu, 04 Apr 2024 15:24:48 +0000\n"
     ]
    }
   ],
   "source": [
    "for article in news_rss:\n",
    "    print(article['title'])\n",
    "    print((article['published']))"
   ]
  },
  {
   "cell_type": "code",
   "execution_count": 28,
   "metadata": {},
   "outputs": [
    {
     "ename": "TypeError",
     "evalue": "string indices must be integers",
     "output_type": "error",
     "traceback": [
      "\u001b[1;31m---------------------------------------------------------------------------\u001b[0m",
      "\u001b[1;31mTypeError\u001b[0m                                 Traceback (most recent call last)",
      "Cell \u001b[1;32mIn[28], line 1\u001b[0m\n\u001b[1;32m----> 1\u001b[0m \u001b[43mstock_info\u001b[49m\u001b[38;5;241;43m.\u001b[39;49m\u001b[43mget_company_info\u001b[49m\u001b[43m(\u001b[49m\u001b[38;5;124;43m\"\u001b[39;49m\u001b[38;5;124;43mMSFT\u001b[39;49m\u001b[38;5;124;43m\"\u001b[39;49m\u001b[43m)\u001b[49m\n",
      "File \u001b[1;32md:\\Py-Project\\LLM4Fin\\.venv\\lib\\site-packages\\yahoo_fin\\stock_info.py:1015\u001b[0m, in \u001b[0;36mget_company_info\u001b[1;34m(ticker)\u001b[0m\n\u001b[0;32m   1013\u001b[0m site \u001b[38;5;241m=\u001b[39m \u001b[38;5;124mf\u001b[39m\u001b[38;5;124m\"\u001b[39m\u001b[38;5;124mhttps://finance.yahoo.com/quote/\u001b[39m\u001b[38;5;132;01m{\u001b[39;00mticker\u001b[38;5;132;01m}\u001b[39;00m\u001b[38;5;124m/profile?p=\u001b[39m\u001b[38;5;132;01m{\u001b[39;00mticker\u001b[38;5;132;01m}\u001b[39;00m\u001b[38;5;124m\"\u001b[39m\n\u001b[0;32m   1014\u001b[0m json_info \u001b[38;5;241m=\u001b[39m _parse_json(site)\n\u001b[1;32m-> 1015\u001b[0m json_info \u001b[38;5;241m=\u001b[39m \u001b[43mjson_info\u001b[49m\u001b[43m[\u001b[49m\u001b[38;5;124;43m\"\u001b[39;49m\u001b[38;5;124;43massetProfile\u001b[39;49m\u001b[38;5;124;43m\"\u001b[39;49m\u001b[43m]\u001b[49m\n\u001b[0;32m   1016\u001b[0m info_frame \u001b[38;5;241m=\u001b[39m pd\u001b[38;5;241m.\u001b[39mDataFrame\u001b[38;5;241m.\u001b[39mfrom_dict(json_info,\n\u001b[0;32m   1017\u001b[0m                                     orient\u001b[38;5;241m=\u001b[39m\u001b[38;5;124m\"\u001b[39m\u001b[38;5;124mindex\u001b[39m\u001b[38;5;124m\"\u001b[39m,\n\u001b[0;32m   1018\u001b[0m                                     columns\u001b[38;5;241m=\u001b[39m[\u001b[38;5;124m\"\u001b[39m\u001b[38;5;124mValue\u001b[39m\u001b[38;5;124m\"\u001b[39m])\n\u001b[0;32m   1019\u001b[0m info_frame \u001b[38;5;241m=\u001b[39m info_frame\u001b[38;5;241m.\u001b[39mdrop(\u001b[38;5;124m\"\u001b[39m\u001b[38;5;124mcompanyOfficers\u001b[39m\u001b[38;5;124m\"\u001b[39m, axis\u001b[38;5;241m=\u001b[39m\u001b[38;5;124m\"\u001b[39m\u001b[38;5;124mindex\u001b[39m\u001b[38;5;124m\"\u001b[39m)\n",
      "\u001b[1;31mTypeError\u001b[0m: string indices must be integers"
     ]
    }
   ],
   "source": [
    "stock_info.get_company_info(\"MSFT\")"
   ]
  }
 ],
 "metadata": {
  "kernelspec": {
   "display_name": ".venv",
   "language": "python",
   "name": "python3"
  },
  "language_info": {
   "codemirror_mode": {
    "name": "ipython",
    "version": 3
   },
   "file_extension": ".py",
   "mimetype": "text/x-python",
   "name": "python",
   "nbconvert_exporter": "python",
   "pygments_lexer": "ipython3",
   "version": "3.10.11"
  }
 },
 "nbformat": 4,
 "nbformat_minor": 2
}
